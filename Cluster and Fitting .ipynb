{
 "cells": [
  {
   "cell_type": "code",
   "execution_count": 770,
   "id": "b5d2f386",
   "metadata": {},
   "outputs": [],
   "source": [
    "import numpy as np\n",
    "import pandas as pd\n",
    "import matplotlib.pyplot as plt\n",
    "import scipy as sts\n",
    "from sklearn.cluster import KMeans\n",
    "import seaborn as sns\n",
    "from sklearn import preprocessing"
   ]
  },
  {
   "cell_type": "code",
   "execution_count": 790,
   "id": "66f189b6",
   "metadata": {},
   "outputs": [],
   "source": [
    "\"\"\"Reading manipulating file with country name\n",
    "and returning a dataframe and transpose of the dataframe as return\"\"\"\n",
    "def dataFrame(file_name, col, value1,countries):\n",
    "    # Reading Data for dataframe\n",
    "    df = pd.read_csv(file_name, skiprows = 4)\n",
    "    # Grouping data with col value\n",
    "    df1 = df.groupby(col, group_keys = True)\n",
    "    #retriving the data with the all the group element\n",
    "    df1 = df1.get_group(value1)\n",
    "    #Reseting the index of the dataframe\n",
    "    df1 = df1.reset_index()\n",
    "    #Storing the column data in a variable\n",
    "    a = df1['Country Name']\n",
    "    # cropping the data from dataframe\n",
    "    df1 = df1.iloc[countries,2:]\n",
    "    df1 = df1.drop(columns=['Indicator Name', 'Indicator Code']) \n",
    "    df1.insert(loc=0, column='Country Name', value=a)\n",
    "    #Dropping the NAN values from dataframe Column wise\n",
    "    df1= df1.dropna(axis = 0)\n",
    "    #transposing the index of the dataframe\n",
    "    df2 = df1.set_index('Country Name').T\n",
    "    #returning the normal dataframe and transposed dataframe\n",
    "    return df1, df2"
   ]
  },
  {
   "cell_type": "code",
   "execution_count": 792,
   "id": "18702143",
   "metadata": {},
   "outputs": [
    {
     "data": {
      "text/html": [
       "<div>\n",
       "<style scoped>\n",
       "    .dataframe tbody tr th:only-of-type {\n",
       "        vertical-align: middle;\n",
       "    }\n",
       "\n",
       "    .dataframe tbody tr th {\n",
       "        vertical-align: top;\n",
       "    }\n",
       "\n",
       "    .dataframe thead th {\n",
       "        text-align: right;\n",
       "    }\n",
       "</style>\n",
       "<table border=\"1\" class=\"dataframe\">\n",
       "  <thead>\n",
       "    <tr style=\"text-align: right;\">\n",
       "      <th></th>\n",
       "      <th>Country Name</th>\n",
       "      <th>Country Code</th>\n",
       "      <th>1960</th>\n",
       "      <th>1961</th>\n",
       "      <th>1962</th>\n",
       "      <th>1963</th>\n",
       "      <th>1964</th>\n",
       "      <th>1965</th>\n",
       "      <th>1966</th>\n",
       "      <th>1967</th>\n",
       "      <th>...</th>\n",
       "      <th>2012</th>\n",
       "      <th>2013</th>\n",
       "      <th>2014</th>\n",
       "      <th>2015</th>\n",
       "      <th>2016</th>\n",
       "      <th>2017</th>\n",
       "      <th>2018</th>\n",
       "      <th>2019</th>\n",
       "      <th>2020</th>\n",
       "      <th>2021</th>\n",
       "    </tr>\n",
       "  </thead>\n",
       "  <tbody>\n",
       "    <tr>\n",
       "      <th>35</th>\n",
       "      <td>Canada</td>\n",
       "      <td>CAN</td>\n",
       "      <td>2259.250511</td>\n",
       "      <td>2240.433039</td>\n",
       "      <td>2268.585346</td>\n",
       "      <td>2374.498448</td>\n",
       "      <td>2555.111146</td>\n",
       "      <td>2770.361804</td>\n",
       "      <td>3047.106147</td>\n",
       "      <td>3217.159294</td>\n",
       "      <td>...</td>\n",
       "      <td>52669.089960</td>\n",
       "      <td>52635.17496</td>\n",
       "      <td>50955.998320</td>\n",
       "      <td>43596.135540</td>\n",
       "      <td>42315.603710</td>\n",
       "      <td>45129.429300</td>\n",
       "      <td>46548.638410</td>\n",
       "      <td>46328.671840</td>\n",
       "      <td>43258.263870</td>\n",
       "      <td>51987.939050</td>\n",
       "    </tr>\n",
       "    <tr>\n",
       "      <th>81</th>\n",
       "      <td>United Kingdom</td>\n",
       "      <td>GBR</td>\n",
       "      <td>1397.594803</td>\n",
       "      <td>1472.385714</td>\n",
       "      <td>1525.775853</td>\n",
       "      <td>1613.456884</td>\n",
       "      <td>1748.288118</td>\n",
       "      <td>1873.567774</td>\n",
       "      <td>1986.747159</td>\n",
       "      <td>2058.781882</td>\n",
       "      <td>...</td>\n",
       "      <td>42485.586070</td>\n",
       "      <td>43449.09172</td>\n",
       "      <td>47447.588930</td>\n",
       "      <td>45071.074320</td>\n",
       "      <td>41146.077360</td>\n",
       "      <td>40621.334480</td>\n",
       "      <td>43306.308300</td>\n",
       "      <td>42747.080460</td>\n",
       "      <td>40318.557570</td>\n",
       "      <td>46510.282780</td>\n",
       "    </tr>\n",
       "    <tr>\n",
       "      <th>109</th>\n",
       "      <td>India</td>\n",
       "      <td>IND</td>\n",
       "      <td>83.035102</td>\n",
       "      <td>85.969704</td>\n",
       "      <td>90.276869</td>\n",
       "      <td>101.315165</td>\n",
       "      <td>115.487608</td>\n",
       "      <td>119.082476</td>\n",
       "      <td>89.757583</td>\n",
       "      <td>96.046330</td>\n",
       "      <td>...</td>\n",
       "      <td>1434.018198</td>\n",
       "      <td>1438.05748</td>\n",
       "      <td>1559.864518</td>\n",
       "      <td>1590.173918</td>\n",
       "      <td>1714.280355</td>\n",
       "      <td>1957.968841</td>\n",
       "      <td>1974.377788</td>\n",
       "      <td>2047.232704</td>\n",
       "      <td>1910.421473</td>\n",
       "      <td>2256.590409</td>\n",
       "    </tr>\n",
       "  </tbody>\n",
       "</table>\n",
       "<p>3 rows × 64 columns</p>\n",
       "</div>"
      ],
      "text/plain": [
       "       Country Name Country Code         1960         1961         1962  \\\n",
       "35           Canada          CAN  2259.250511  2240.433039  2268.585346   \n",
       "81   United Kingdom          GBR  1397.594803  1472.385714  1525.775853   \n",
       "109           India          IND    83.035102    85.969704    90.276869   \n",
       "\n",
       "            1963         1964         1965         1966         1967  ...  \\\n",
       "35   2374.498448  2555.111146  2770.361804  3047.106147  3217.159294  ...   \n",
       "81   1613.456884  1748.288118  1873.567774  1986.747159  2058.781882  ...   \n",
       "109   101.315165   115.487608   119.082476    89.757583    96.046330  ...   \n",
       "\n",
       "             2012         2013          2014          2015          2016  \\\n",
       "35   52669.089960  52635.17496  50955.998320  43596.135540  42315.603710   \n",
       "81   42485.586070  43449.09172  47447.588930  45071.074320  41146.077360   \n",
       "109   1434.018198   1438.05748   1559.864518   1590.173918   1714.280355   \n",
       "\n",
       "             2017          2018          2019          2020          2021  \n",
       "35   45129.429300  46548.638410  46328.671840  43258.263870  51987.939050  \n",
       "81   40621.334480  43306.308300  42747.080460  40318.557570  46510.282780  \n",
       "109   1957.968841   1974.377788   2047.232704   1910.421473   2256.590409  \n",
       "\n",
       "[3 rows x 64 columns]"
      ]
     },
     "execution_count": 792,
     "metadata": {},
     "output_type": "execute_result"
    }
   ],
   "source": [
    "# years using for the data analysis\n",
    "#years = 35\n",
    "# countries which are using for data analysis\n",
    "countries = [35, 55, 81, 109]\n",
    "'''calling dataFrame functions for all the dataframe which will be used for visualization'''\n",
    "GDP_capita_c, GDP_capita_y = dataFrame(\"API_NY.GDP.PCAP.CD_DS2_en_csv_v2_4770417.csv\",\n",
    "                                       \"Indicator Name\", \"GDP per capita (current US$)\",countries)\n",
    "\n",
    "GDP_capita_c"
   ]
  },
  {
   "cell_type": "code",
   "execution_count": 793,
   "id": "22db025b",
   "metadata": {},
   "outputs": [
    {
     "data": {
      "text/html": [
       "<div>\n",
       "<style scoped>\n",
       "    .dataframe tbody tr th:only-of-type {\n",
       "        vertical-align: middle;\n",
       "    }\n",
       "\n",
       "    .dataframe tbody tr th {\n",
       "        vertical-align: top;\n",
       "    }\n",
       "\n",
       "    .dataframe thead th {\n",
       "        text-align: right;\n",
       "    }\n",
       "</style>\n",
       "<table border=\"1\" class=\"dataframe\">\n",
       "  <thead>\n",
       "    <tr style=\"text-align: right;\">\n",
       "      <th>Country Name</th>\n",
       "      <th>Canada</th>\n",
       "      <th>United Kingdom</th>\n",
       "      <th>India</th>\n",
       "    </tr>\n",
       "  </thead>\n",
       "  <tbody>\n",
       "    <tr>\n",
       "      <th>1960</th>\n",
       "      <td>2259.250511</td>\n",
       "      <td>1397.594803</td>\n",
       "      <td>83.035102</td>\n",
       "    </tr>\n",
       "    <tr>\n",
       "      <th>1961</th>\n",
       "      <td>2240.433039</td>\n",
       "      <td>1472.385714</td>\n",
       "      <td>85.969704</td>\n",
       "    </tr>\n",
       "    <tr>\n",
       "      <th>1962</th>\n",
       "      <td>2268.585346</td>\n",
       "      <td>1525.775853</td>\n",
       "      <td>90.276869</td>\n",
       "    </tr>\n",
       "    <tr>\n",
       "      <th>1963</th>\n",
       "      <td>2374.498448</td>\n",
       "      <td>1613.456884</td>\n",
       "      <td>101.315165</td>\n",
       "    </tr>\n",
       "    <tr>\n",
       "      <th>1964</th>\n",
       "      <td>2555.111146</td>\n",
       "      <td>1748.288118</td>\n",
       "      <td>115.487608</td>\n",
       "    </tr>\n",
       "    <tr>\n",
       "      <th>...</th>\n",
       "      <td>...</td>\n",
       "      <td>...</td>\n",
       "      <td>...</td>\n",
       "    </tr>\n",
       "    <tr>\n",
       "      <th>2017</th>\n",
       "      <td>45129.4293</td>\n",
       "      <td>40621.33448</td>\n",
       "      <td>1957.968841</td>\n",
       "    </tr>\n",
       "    <tr>\n",
       "      <th>2018</th>\n",
       "      <td>46548.63841</td>\n",
       "      <td>43306.3083</td>\n",
       "      <td>1974.377788</td>\n",
       "    </tr>\n",
       "    <tr>\n",
       "      <th>2019</th>\n",
       "      <td>46328.67184</td>\n",
       "      <td>42747.08046</td>\n",
       "      <td>2047.232704</td>\n",
       "    </tr>\n",
       "    <tr>\n",
       "      <th>2020</th>\n",
       "      <td>43258.26387</td>\n",
       "      <td>40318.55757</td>\n",
       "      <td>1910.421473</td>\n",
       "    </tr>\n",
       "    <tr>\n",
       "      <th>2021</th>\n",
       "      <td>51987.93905</td>\n",
       "      <td>46510.28278</td>\n",
       "      <td>2256.590409</td>\n",
       "    </tr>\n",
       "  </tbody>\n",
       "</table>\n",
       "<p>62 rows × 3 columns</p>\n",
       "</div>"
      ],
      "text/plain": [
       "Country Name       Canada United Kingdom        India\n",
       "1960          2259.250511    1397.594803    83.035102\n",
       "1961          2240.433039    1472.385714    85.969704\n",
       "1962          2268.585346    1525.775853    90.276869\n",
       "1963          2374.498448    1613.456884   101.315165\n",
       "1964          2555.111146    1748.288118   115.487608\n",
       "...                   ...            ...          ...\n",
       "2017           45129.4293    40621.33448  1957.968841\n",
       "2018          46548.63841     43306.3083  1974.377788\n",
       "2019          46328.67184    42747.08046  2047.232704\n",
       "2020          43258.26387    40318.55757  1910.421473\n",
       "2021          51987.93905    46510.28278  2256.590409\n",
       "\n",
       "[62 rows x 3 columns]"
      ]
     },
     "execution_count": 793,
     "metadata": {},
     "output_type": "execute_result"
    }
   ],
   "source": [
    "GDP_capita_y=GDP_capita_y.drop('Country Code',axis=0)\n",
    "GDP_capita_y"
   ]
  },
  {
   "cell_type": "code",
   "execution_count": 794,
   "id": "b9e0313d",
   "metadata": {},
   "outputs": [
    {
     "data": {
      "text/plain": [
       "array([[2259.250511, 1397.594803, 83.03510182],\n",
       "       [2240.433039, 1472.385714, 85.96970419],\n",
       "       [2268.585346, 1525.775853, 90.27686893],\n",
       "       [2374.498448, 1613.456884, 101.315165],\n",
       "       [2555.111146, 1748.288118, 115.4876084],\n",
       "       [2770.361804, 1873.567774, 119.0824759],\n",
       "       [3047.106147, 1986.747159, 89.75758261],\n",
       "       [3217.159294, 2058.781882, 96.04632985],\n",
       "       [3462.678872, 1951.758596, 99.51683612],\n",
       "       [3763.953379, 2100.667869, 107.1821431],\n",
       "       [4121.932814, 2347.544318, 111.9683182],\n",
       "       [4520.162878, 2649.801514, 118.1597985],\n",
       "       [5089.587902, 3030.432514, 122.6124534],\n",
       "       [5838.660894, 3426.276221, 143.456125],\n",
       "       [7033.011021, 3665.862798, 163.2316156],\n",
       "       [7511.211343, 4299.745618, 157.929385],\n",
       "       [8809.26466, 4138.167788, 161.1372361],\n",
       "       [8919.057461, 4681.439932, 186.4201346],\n",
       "       [9123.691334, 5976.938169, 206.0737493],\n",
       "       [10043.66096, 7804.762081, 224.5754377],\n",
       "       [11170.56397, 10032.06208, 267.3905787],\n",
       "       [12337.46625, 9599.306222, 271.4250853],\n",
       "       [12481.87479, 9146.077357, 275.2654283],\n",
       "       [13425.12249, 8691.518813, 292.6448175],\n",
       "       [13877.91708, 8179.194441, 278.0961873],\n",
       "       [14114.80776, 8652.216542, 297.9996627],\n",
       "       [14461.06924, 10611.11221, 312.0598439],\n",
       "       [16308.96697, 13118.58653, 342.0719237],\n",
       "       [18936.9641, 15987.16808, 355.7375989],\n",
       "       [20715.63148, 16239.2822, 347.4623845],\n",
       "       [21448.36196, 19095.467, 368.7497594],\n",
       "       [21768.34329, 19900.72665, 303.850438],\n",
       "       [20879.84833, 20487.17079, 317.5591355],\n",
       "       [20121.16125, 18389.01957, 301.5011949],\n",
       "       [19935.38146, 19709.2381, 346.2273931],\n",
       "       [20613.78788, 23202.46158, 373.6282803],\n",
       "       [21227.34753, 24440.32814, 399.5775035],\n",
       "       [21901.56285, 26781.36217, 414.8988696],\n",
       "       [21024.58507, 28297.866, 412.509511],\n",
       "       [22315.24667, 28786.95928, 440.9614546],\n",
       "       [24271.00206, 28290.9725, 442.0347789],\n",
       "       [23822.06012, 27886.79859, 449.9111249],\n",
       "       [24255.33858, 30079.66004, 468.8444283],\n",
       "       [28300.4631, 34479.39293, 543.8437989],\n",
       "       [32143.68141, 40390.78583, 624.1050944],\n",
       "       [36382.50792, 42131.6994, 710.5093449],\n",
       "       [40504.06073, 44536.61972, 802.013742],\n",
       "       [44659.89514, 50435.37029, 1022.731629],\n",
       "       [46710.50558, 47429.93634, 993.5037725],\n",
       "       [40876.31015, 38821.17958, 1096.63498],\n",
       "       [47562.08343, 39693.19387, 1350.634322],\n",
       "       [52223.69611, 42150.69814, 1449.601789],\n",
       "       [52669.08996, 42485.58607, 1434.018198],\n",
       "       [52635.17496, 43449.09172, 1438.05748],\n",
       "       [50955.99832, 47447.58893, 1559.864518],\n",
       "       [43596.13554, 45071.07432, 1590.173918],\n",
       "       [42315.60371, 41146.07736, 1714.280355],\n",
       "       [45129.4293, 40621.33448, 1957.968841],\n",
       "       [46548.63841, 43306.3083, 1974.377788],\n",
       "       [46328.67184, 42747.08046, 2047.232704],\n",
       "       [43258.26387, 40318.55757, 1910.421473],\n",
       "       [51987.93905, 46510.28278, 2256.590409]], dtype=object)"
      ]
     },
     "execution_count": 794,
     "metadata": {},
     "output_type": "execute_result"
    }
   ],
   "source": [
    "x = GDP_capita_y.values #returns a numpy array\n",
    "x"
   ]
  },
  {
   "cell_type": "code",
   "execution_count": 795,
   "id": "7b6404dd",
   "metadata": {},
   "outputs": [],
   "source": [
    "min_max_scaler = preprocessing.MinMaxScaler()\n",
    "x_scaled = min_max_scaler.fit_transform(x)\n",
    "normalized_df= pd.DataFrame(x_scaled)\n"
   ]
  },
  {
   "cell_type": "code",
   "execution_count": 796,
   "id": "f4acb44f",
   "metadata": {},
   "outputs": [
    {
     "data": {
      "text/html": [
       "<div>\n",
       "<style scoped>\n",
       "    .dataframe tbody tr th:only-of-type {\n",
       "        vertical-align: middle;\n",
       "    }\n",
       "\n",
       "    .dataframe tbody tr th {\n",
       "        vertical-align: top;\n",
       "    }\n",
       "\n",
       "    .dataframe thead th {\n",
       "        text-align: right;\n",
       "    }\n",
       "</style>\n",
       "<table border=\"1\" class=\"dataframe\">\n",
       "  <thead>\n",
       "    <tr style=\"text-align: right;\">\n",
       "      <th></th>\n",
       "      <th>0</th>\n",
       "      <th>1</th>\n",
       "      <th>2</th>\n",
       "    </tr>\n",
       "  </thead>\n",
       "  <tbody>\n",
       "    <tr>\n",
       "      <th>0</th>\n",
       "      <td>0.000373</td>\n",
       "      <td>0.000000</td>\n",
       "      <td>0.000000</td>\n",
       "    </tr>\n",
       "    <tr>\n",
       "      <th>1</th>\n",
       "      <td>0.000000</td>\n",
       "      <td>0.001525</td>\n",
       "      <td>0.001350</td>\n",
       "    </tr>\n",
       "    <tr>\n",
       "      <th>2</th>\n",
       "      <td>0.000558</td>\n",
       "      <td>0.002614</td>\n",
       "      <td>0.003332</td>\n",
       "    </tr>\n",
       "    <tr>\n",
       "      <th>3</th>\n",
       "      <td>0.002659</td>\n",
       "      <td>0.004402</td>\n",
       "      <td>0.008410</td>\n",
       "    </tr>\n",
       "    <tr>\n",
       "      <th>4</th>\n",
       "      <td>0.006240</td>\n",
       "      <td>0.007151</td>\n",
       "      <td>0.014931</td>\n",
       "    </tr>\n",
       "    <tr>\n",
       "      <th>...</th>\n",
       "      <td>...</td>\n",
       "      <td>...</td>\n",
       "      <td>...</td>\n",
       "    </tr>\n",
       "    <tr>\n",
       "      <th>57</th>\n",
       "      <td>0.850489</td>\n",
       "      <td>0.799868</td>\n",
       "      <td>0.862611</td>\n",
       "    </tr>\n",
       "    <tr>\n",
       "      <th>58</th>\n",
       "      <td>0.878631</td>\n",
       "      <td>0.854621</td>\n",
       "      <td>0.870161</td>\n",
       "    </tr>\n",
       "    <tr>\n",
       "      <th>59</th>\n",
       "      <td>0.874270</td>\n",
       "      <td>0.843217</td>\n",
       "      <td>0.903680</td>\n",
       "    </tr>\n",
       "    <tr>\n",
       "      <th>60</th>\n",
       "      <td>0.813383</td>\n",
       "      <td>0.793693</td>\n",
       "      <td>0.840736</td>\n",
       "    </tr>\n",
       "    <tr>\n",
       "      <th>61</th>\n",
       "      <td>0.986493</td>\n",
       "      <td>0.919958</td>\n",
       "      <td>1.000000</td>\n",
       "    </tr>\n",
       "  </tbody>\n",
       "</table>\n",
       "<p>62 rows × 3 columns</p>\n",
       "</div>"
      ],
      "text/plain": [
       "           0         1         2\n",
       "0   0.000373  0.000000  0.000000\n",
       "1   0.000000  0.001525  0.001350\n",
       "2   0.000558  0.002614  0.003332\n",
       "3   0.002659  0.004402  0.008410\n",
       "4   0.006240  0.007151  0.014931\n",
       "..       ...       ...       ...\n",
       "57  0.850489  0.799868  0.862611\n",
       "58  0.878631  0.854621  0.870161\n",
       "59  0.874270  0.843217  0.903680\n",
       "60  0.813383  0.793693  0.840736\n",
       "61  0.986493  0.919958  1.000000\n",
       "\n",
       "[62 rows x 3 columns]"
      ]
     },
     "execution_count": 796,
     "metadata": {},
     "output_type": "execute_result"
    }
   ],
   "source": [
    "normalized_df"
   ]
  },
  {
   "cell_type": "code",
   "execution_count": 797,
   "id": "d9a0903a",
   "metadata": {},
   "outputs": [
    {
     "data": {
      "text/plain": [
       "array([[3.73150370e-04, 0.00000000e+00, 0.00000000e+00],\n",
       "       [0.00000000e+00, 1.52516933e-03, 1.35013927e-03],\n",
       "       [5.58260099e-04, 2.61392465e-03, 3.33176114e-03],\n",
       "       [2.65851635e-03, 4.40195500e-03, 8.41021304e-03],\n",
       "       [6.24006520e-03, 7.15149314e-03, 1.49306100e-02],\n",
       "       [1.05084846e-02, 9.70625128e-03, 1.65845212e-02],\n",
       "       [1.59963235e-02, 1.20142553e-02, 3.09285012e-03],\n",
       "       [1.93684765e-02, 1.34832193e-02, 5.98614997e-03],\n",
       "       [2.42371284e-02, 1.13007531e-02, 7.58284560e-03],\n",
       "       [3.02114003e-02, 1.43373768e-02, 1.11094671e-02],\n",
       "       [3.73101306e-02, 1.93717905e-02, 1.33114701e-02],\n",
       "       [4.52070306e-02, 2.55355529e-02, 1.61600197e-02],\n",
       "       [5.64987259e-02, 3.32975486e-02, 1.82085781e-02],\n",
       "       [7.13528393e-02, 4.13697685e-02, 2.77982451e-02],\n",
       "       [9.50367960e-02, 4.62555239e-02, 3.68964680e-02],\n",
       "       [1.04519506e-01, 5.91819426e-02, 3.44570405e-02],\n",
       "       [1.30259896e-01, 5.58869761e-02, 3.59328948e-02],\n",
       "       [1.32437087e-01, 6.69656218e-02, 4.75649423e-02],\n",
       "       [1.36494976e-01, 9.33839947e-02, 5.66070930e-02],\n",
       "       [1.54737968e-01, 1.30657788e-01, 6.51192704e-02],\n",
       "       [1.77084449e-01, 1.76077874e-01, 8.48174768e-02],\n",
       "       [2.00224115e-01, 1.67252926e-01, 8.66736553e-02],\n",
       "       [2.03087736e-01, 1.58010482e-01, 8.84405038e-02],\n",
       "       [2.21792333e-01, 1.48740923e-01, 9.64363387e-02],\n",
       "       [2.30771247e-01, 1.38293378e-01, 8.97428673e-02],\n",
       "       [2.35468788e-01, 1.47939454e-01, 9.88999729e-02],\n",
       "       [2.42335151e-01, 1.87886121e-01, 1.05368721e-01],\n",
       "       [2.78978953e-01, 2.39019646e-01, 1.19176550e-01],\n",
       "       [3.31092123e-01, 2.97517029e-01, 1.25463795e-01],\n",
       "       [3.66363087e-01, 3.02658252e-01, 1.21656570e-01],\n",
       "       [3.80893129e-01, 3.60902835e-01, 1.31450374e-01],\n",
       "       [3.87238357e-01, 3.77324046e-01, 1.01591772e-01],\n",
       "       [3.69619507e-01, 3.89283074e-01, 1.07898811e-01],\n",
       "       [3.54574746e-01, 3.46496647e-01, 1.00510943e-01],\n",
       "       [3.50890734e-01, 3.73419127e-01, 1.21088380e-01],\n",
       "       [3.64343529e-01, 4.44654484e-01, 1.33694863e-01],\n",
       "       [3.76510414e-01, 4.69897607e-01, 1.45633470e-01],\n",
       "       [3.89880100e-01, 5.17637008e-01, 1.52682458e-01],\n",
       "       [3.72489635e-01, 5.48562224e-01, 1.51583173e-01],\n",
       "       [3.98083448e-01, 5.58536031e-01, 1.64673221e-01],\n",
       "       [4.36866067e-01, 5.48421649e-01, 1.65167031e-01],\n",
       "       [4.27963551e-01, 5.40179556e-01, 1.68790747e-01],\n",
       "       [4.36555460e-01, 5.84897356e-01, 1.77501500e-01],\n",
       "       [5.16770258e-01, 6.74618655e-01, 2.12006888e-01],\n",
       "       [5.92981257e-01, 7.95166392e-01, 2.48933161e-01],\n",
       "       [6.77037164e-01, 8.30667872e-01, 2.88685658e-01],\n",
       "       [7.58767535e-01, 8.79710070e-01, 3.30784608e-01],\n",
       "       [8.41177709e-01, 1.00000000e+00, 4.32331546e-01],\n",
       "       [8.81841303e-01, 9.38711862e-01, 4.18884520e-01],\n",
       "       [7.66149239e-01, 7.63158288e-01, 4.66332683e-01],\n",
       "       [8.98728088e-01, 7.80940789e-01, 5.83191611e-01],\n",
       "       [9.91167842e-01, 8.31055302e-01, 6.28724138e-01],\n",
       "       [1.00000000e+00, 8.37884485e-01, 6.21554506e-01],\n",
       "       [9.99327466e-01, 8.57532718e-01, 6.23412882e-01],\n",
       "       [9.66029402e-01, 9.39071841e-01, 6.79453341e-01],\n",
       "       [8.20083362e-01, 8.90608905e-01, 6.93397960e-01],\n",
       "       [7.94690422e-01, 8.10568631e-01, 7.50496317e-01],\n",
       "       [8.50488569e-01, 7.99867842e-01, 8.62611470e-01],\n",
       "       [8.78631478e-01, 8.54621016e-01, 8.70160828e-01],\n",
       "       [8.74269542e-01, 8.43216994e-01, 9.03679605e-01],\n",
       "       [8.13383368e-01, 7.93693482e-01, 8.40736081e-01],\n",
       "       [9.86492781e-01, 9.19957880e-01, 1.00000000e+00]])"
      ]
     },
     "execution_count": 797,
     "metadata": {},
     "output_type": "execute_result"
    }
   ],
   "source": [
    "wcss = []\n",
    "y=normalized_df.values\n",
    "\n",
    "y"
   ]
  },
  {
   "cell_type": "code",
   "execution_count": 798,
   "id": "2f32cb95",
   "metadata": {},
   "outputs": [
    {
     "name": "stderr",
     "output_type": "stream",
     "text": [
      "C:\\Users\\Puneet\\anaconda3\\lib\\site-packages\\sklearn\\cluster\\_kmeans.py:1036: UserWarning: KMeans is known to have a memory leak on Windows with MKL, when there are less chunks than available threads. You can avoid it by setting the environment variable OMP_NUM_THREADS=1.\n",
      "  warnings.warn(\n"
     ]
    },
    {
     "data": {
      "text/plain": [
       "[18.667004085055307,\n",
       " 4.217049601509542,\n",
       " 1.7077509963339619,\n",
       " 1.062728378024218,\n",
       " 0.7472472787572442,\n",
       " 0.571860811670025,\n",
       " 0.3916455856217306,\n",
       " 0.31447317415285975,\n",
       " 0.2681774235161177]"
      ]
     },
     "execution_count": 798,
     "metadata": {},
     "output_type": "execute_result"
    }
   ],
   "source": [
    "for i in range(1, 10):\n",
    "    kmeans = KMeans(n_clusters = i,init = 'k-means++', max_iter = 300, n_init = 10, random_state = 0)\n",
    "    kmeans.fit(normalized_df)\n",
    "    wcss.append(kmeans.inertia_)\n",
    "    \n",
    "wcss\n"
   ]
  },
  {
   "cell_type": "code",
   "execution_count": 799,
   "id": "e9b49963",
   "metadata": {},
   "outputs": [
    {
     "data": {
      "image/png": "[encoded data removed]",
      "text/plain": [
       "<Figure size 432x288 with 1 Axes>"
      ]
     },
     "metadata": {
      "needs_background": "light"
     },
     "output_type": "display_data"
    }
   ],
   "source": [
    "plt.plot(range(1, 10), wcss)\n",
    "plt.title('The elbow method')\n",
    "plt.xlabel('Number of clusters')\n",
    "plt.ylabel('WCSS') #within cluster sum of squares\n",
    "plt.show()"
   ]
  },
  {
   "cell_type": "code",
   "execution_count": 801,
   "id": "eee1c1b3",
   "metadata": {},
   "outputs": [],
   "source": [
    "kmeans = KMeans(n_clusters = 3, init = 'k-means++', max_iter = 100, n_init = 10, random_state = 0)\n",
    "y_kmeans = kmeans.fit_predict(normalized_df)"
   ]
  },
  {
   "cell_type": "code",
   "execution_count": 802,
   "id": "015c8b10",
   "metadata": {},
   "outputs": [
    {
     "data": {
      "text/plain": [
       "array([1, 1, 1, 1, 1, 1, 1, 1, 1, 1, 1, 1, 1, 1, 1, 1, 1, 1, 1, 1, 1, 1,\n",
       "       1, 1, 1, 1, 1, 1, 0, 0, 0, 0, 0, 0, 0, 0, 0, 0, 0, 0, 0, 0, 0, 0,\n",
       "       0, 2, 2, 2, 2, 2, 2, 2, 2, 2, 2, 2, 2, 2, 2, 2, 2, 2])"
      ]
     },
     "execution_count": 802,
     "metadata": {},
     "output_type": "execute_result"
    }
   ],
   "source": [
    "y_kmeans"
   ]
  },
  {
   "cell_type": "code",
   "execution_count": 803,
   "id": "ae1c2765",
   "metadata": {},
   "outputs": [],
   "source": [
    "lables = kmeans.fit_predict(normalized_df)\n",
    "centroids= kmeans.cluster_centers_"
   ]
  },
  {
   "cell_type": "code",
   "execution_count": 804,
   "id": "f966d26c",
   "metadata": {},
   "outputs": [
    {
     "data": {
      "text/plain": [
       "array([[0.40312444, 0.47824541, 0.14884277],\n",
       "       [0.10227677, 0.07184506, 0.04264252],\n",
       "       [0.87048619, 0.85713341, 0.64673163]])"
      ]
     },
     "execution_count": 804,
     "metadata": {},
     "output_type": "execute_result"
    }
   ],
   "source": [
    "centroids"
   ]
  },
  {
   "cell_type": "code",
   "execution_count": 805,
   "id": "247c5ddb",
   "metadata": {},
   "outputs": [
    {
     "data": {
      "text/plain": [
       "\"normalized_df['lables']=lables\\nnormalized_df\\n\""
      ]
     },
     "execution_count": 805,
     "metadata": {},
     "output_type": "execute_result"
    }
   ],
   "source": [
    "'''normalized_df['lables']=lables\n",
    "normalized_df\n",
    "'''"
   ]
  },
  {
   "cell_type": "code",
   "execution_count": 806,
   "id": "3e35a0cf",
   "metadata": {},
   "outputs": [
    {
     "data": {
      "text/plain": [
       "array([0.29751703, 0.30265825, 0.36090284, 0.37732405, 0.38928307,\n",
       "       0.34649665, 0.37341913, 0.44465448, 0.46989761, 0.51763701,\n",
       "       0.54856222, 0.55853603, 0.54842165, 0.54017956, 0.58489736,\n",
       "       0.67461865, 0.79516639])"
      ]
     },
     "execution_count": 806,
     "metadata": {},
     "output_type": "execute_result"
    }
   ],
   "source": [
    "normalized_df.values[y_kmeans == 0, 1]"
   ]
  },
  {
   "cell_type": "code",
   "execution_count": 809,
   "id": "01030ce4",
   "metadata": {},
   "outputs": [
    {
     "data": {
      "image/png": "[encoded data removed]",
      "text/plain": [
       "<Figure size 432x288 with 1 Axes>"
      ]
     },
     "metadata": {
      "needs_background": "light"
     },
     "output_type": "display_data"
    }
   ],
   "source": [
    "plt.figure()\n",
    "plt.scatter(normalized_df.values[y_kmeans == 0, 0], normalized_df.values[y_kmeans == 0, 1], s = 100, c = 'green', label = 'Cluster1')\n",
    "plt.scatter(normalized_df.values[lables == 1, 0], normalized_df.values[lables == 1, 1], s = 100, c = 'orange', label = 'Cluster2')\n",
    "plt.scatter(normalized_df.values[lables == 2, 0], normalized_df.values[lables == 2, 1], s = 100, c = 'purple', label = 'Cluster3')\n",
    "plt.scatter(kmeans.cluster_centers_[:, 0], kmeans.cluster_centers_[:, 1], s=100, c='red', label = 'Centroids')\n",
    "plt.legend()\n",
    "plt.title('Clusters of GDP per Capita of 3 countries')\n",
    "plt.xlabel('Years')\n",
    "plt.ylabel('GDP per year')\n",
    "plt.show()\n"
   ]
  },
  {
   "cell_type": "code",
   "execution_count": null,
   "id": "093cdcbb",
   "metadata": {},
   "outputs": [],
   "source": []
  }
 ],
 "metadata": {
  "kernelspec": {
   "display_name": "Python 3 (ipykernel)",
   "language": "python",
   "name": "python3"
  },
  "language_info": {
   "codemirror_mode": {
    "name": "ipython",
    "version": 3
   },
   "file_extension": ".py",
   "mimetype": "text/x-python",
   "name": "python",
   "nbconvert_exporter": "python",
   "pygments_lexer": "ipython3",
   "version": "3.9.12"
  }
 },
 "nbformat": 4,
 "nbformat_minor": 5
}
